{
 "cells": [
  {
   "cell_type": "code",
   "execution_count": null,
   "id": "479de8c1",
   "metadata": {},
   "outputs": [],
   "source": [
    "# https://github.com/ScalaConsultants/Aspect-Based-Sentiment-Analysis"
   ]
  },
  {
   "cell_type": "code",
   "execution_count": 33,
   "id": "9f268142",
   "metadata": {},
   "outputs": [],
   "source": [
    "# pip install aspect-based-sentiment-analysis"
   ]
  },
  {
   "cell_type": "code",
   "execution_count": 34,
   "id": "6ada8b6a",
   "metadata": {},
   "outputs": [],
   "source": [
    "# pip install --upgrade protobuf==3.20.0"
   ]
  },
  {
   "cell_type": "code",
   "execution_count": 1,
   "id": "eee7bdc7",
   "metadata": {},
   "outputs": [
    {
     "data": {
      "application/vnd.jupyter.widget-view+json": {
       "model_id": "9bd0f204302940ce984ef334544828b8",
       "version_major": 2,
       "version_minor": 0
      },
      "text/plain": [
       "Downloading:   0%|          | 0.00/1.08k [00:00<?, ?B/s]"
      ]
     },
     "metadata": {},
     "output_type": "display_data"
    },
    {
     "data": {
      "application/vnd.jupyter.widget-view+json": {
       "model_id": "57f7c0f8f0cd4d36b485fff71cc833fc",
       "version_major": 2,
       "version_minor": 0
      },
      "text/plain": [
       "Downloading:   0%|          | 0.00/438M [00:00<?, ?B/s]"
      ]
     },
     "metadata": {},
     "output_type": "display_data"
    },
    {
     "data": {
      "application/vnd.jupyter.widget-view+json": {
       "model_id": "05252f7c9df34fddbac02c02c71d1449",
       "version_major": 2,
       "version_minor": 0
      },
      "text/plain": [
       "Downloading:   0%|          | 0.00/232k [00:00<?, ?B/s]"
      ]
     },
     "metadata": {},
     "output_type": "display_data"
    },
    {
     "data": {
      "application/vnd.jupyter.widget-view+json": {
       "model_id": "a95b908d3d95426f9dcb1b3ca8c69cb4",
       "version_major": 2,
       "version_minor": 0
      },
      "text/plain": [
       "Downloading:   0%|          | 0.00/112 [00:00<?, ?B/s]"
      ]
     },
     "metadata": {},
     "output_type": "display_data"
    },
    {
     "data": {
      "application/vnd.jupyter.widget-view+json": {
       "model_id": "64faa095c9184e7199dfbe8893827521",
       "version_major": 2,
       "version_minor": 0
      },
      "text/plain": [
       "Downloading:   0%|          | 0.00/112 [00:00<?, ?B/s]"
      ]
     },
     "metadata": {},
     "output_type": "display_data"
    }
   ],
   "source": [
    "import aspect_based_sentiment_analysis as absa\n",
    "\n",
    "nlp = absa.load()\n",
    "text = (\"We are great fans of Slack, but we wish the subscriptions \"\n",
    "        \"were more accessible to small startups.\")\n",
    "\n",
    "slack, price = nlp(text, aspects=['slack', 'price'])\n",
    "assert price.sentiment == absa.Sentiment.negative\n",
    "assert slack.sentiment == absa.Sentiment.positive"
   ]
  },
  {
   "cell_type": "code",
   "execution_count": 27,
   "id": "107fea20",
   "metadata": {},
   "outputs": [],
   "source": [
    "recognizer = absa.aux_models.BasicPatternRecognizer()\n",
    "nlp = absa.load('absa/classifier-rest-0.2', pattern_recognizer=recognizer)\n",
    "text = ('We are great fans of Slack, but we wish the subscriptions ' \n",
    "        'were more accessible to small startups.')\n",
    "completed_task = nlp(text, aspects=['slack', 'price'])\n",
    "slack, price = completed_task.examples"
   ]
  },
  {
   "cell_type": "code",
   "execution_count": 28,
   "id": "29f1984c",
   "metadata": {},
   "outputs": [
    {
     "data": {
      "text/plain": [
       "<function aspect_based_sentiment_analysis.plots.summary(example: aspect_based_sentiment_analysis.data_types.PredictedExample)>"
      ]
     },
     "execution_count": 28,
     "metadata": {},
     "output_type": "execute_result"
    }
   ],
   "source": [
    "absa.summary"
   ]
  },
  {
   "cell_type": "code",
   "execution_count": 30,
   "id": "06c3856f",
   "metadata": {},
   "outputs": [
    {
     "name": "stdout",
     "output_type": "stream",
     "text": [
      "Sentiment.positive for \"slack\"\n",
      "Scores (neutral/negative/positive): [0.001 0.001 0.997]\n"
     ]
    },
    {
     "data": {
      "text/html": [
       "<span style=\"background-color:rgba(180,180,180,1.1111111111111112);\">Importance 1.00</span> <span style=\"background-color:rgba(135,206,250,0.27499999999999997);\">we</span> <span style=\"background-color:rgba(135,206,250,0.43749999999999994);\">are</span> <span style=\"background-color:rgba(135,206,250,0.7499999999999999);\">great</span> <span style=\"background-color:rgba(135,206,250,1.25);\">fans</span> <span style=\"background-color:rgba(135,206,250,0.575);\">of</span> <span style=\"background-color:rgba(135,206,250,1.25);\">slack</span> <span style=\"background-color:rgba(135,206,250,0.1625);\">,</span> <span style=\"background-color:rgba(135,206,250,0.25);\">but</span> <span style=\"background-color:rgba(135,206,250,0.075);\">we</span> <span style=\"background-color:rgba(135,206,250,0.11249999999999999);\">wish</span> <span style=\"background-color:rgba(135,206,250,0.049999999999999996);\">the</span> <span style=\"background-color:rgba(135,206,250,0.13749999999999998);\">subscriptions</span> <span style=\"background-color:rgba(135,206,250,0.0625);\">were</span> <span style=\"background-color:rgba(135,206,250,0.0375);\">more</span> <span style=\"background-color:rgba(135,206,250,0.125);\">accessible</span> <span style=\"background-color:rgba(135,206,250,0.049999999999999996);\">to</span> <span style=\"background-color:rgba(135,206,250,0.049999999999999996);\">small</span> <span style=\"background-color:rgba(135,206,250,0.125);\">startups</span> <span style=\"background-color:rgba(135,206,250,0.125);\">.</span><br> <span style=\"background-color:rgba(180,180,180,1.0);\">Importance 0.90</span> <span style=\"background-color:rgba(135,206,250,0.2875);\">we</span> <span style=\"background-color:rgba(135,206,250,0.35000000000000003);\">are</span> <span style=\"background-color:rgba(135,206,250,1.125);\">great</span> <span style=\"background-color:rgba(135,206,250,1.125);\">fans</span> <span style=\"background-color:rgba(135,206,250,0.425);\">of</span> <span style=\"background-color:rgba(135,206,250,1.125);\">slack</span> <span style=\"background-color:rgba(135,206,250,0.13749999999999998);\">,</span> <span style=\"background-color:rgba(135,206,250,0.39999999999999997);\">but</span> <span style=\"background-color:rgba(135,206,250,0.0625);\">we</span> <span style=\"background-color:rgba(135,206,250,0.1625);\">wish</span> <span style=\"background-color:rgba(135,206,250,0.049999999999999996);\">the</span> <span style=\"background-color:rgba(135,206,250,0.13749999999999998);\">subscriptions</span> <span style=\"background-color:rgba(135,206,250,0.049999999999999996);\">were</span> <span style=\"background-color:rgba(135,206,250,0.049999999999999996);\">more</span> <span style=\"background-color:rgba(135,206,250,0.08750000000000001);\">accessible</span> <span style=\"background-color:rgba(135,206,250,0.0375);\">to</span> <span style=\"background-color:rgba(135,206,250,0.049999999999999996);\">small</span> <span style=\"background-color:rgba(135,206,250,0.09999999999999999);\">startups</span> <span style=\"background-color:rgba(135,206,250,0.11249999999999999);\">.</span><br> <span style=\"background-color:rgba(180,180,180,0.6666666666666666);\">Importance 0.60</span> <span style=\"background-color:rgba(135,206,250,0.1625);\">we</span> <span style=\"background-color:rgba(135,206,250,0.125);\">are</span> <span style=\"background-color:rgba(135,206,250,0.5125);\">great</span> <span style=\"background-color:rgba(135,206,250,0.5249999999999999);\">fans</span> <span style=\"background-color:rgba(135,206,250,0.7499999999999999);\">of</span> <span style=\"background-color:rgba(135,206,250,0.7499999999999999);\">slack</span> <span style=\"background-color:rgba(135,206,250,0.39999999999999997);\">,</span> <span style=\"background-color:rgba(135,206,250,0.37499999999999994);\">but</span> <span style=\"background-color:rgba(135,206,250,0.075);\">we</span> <span style=\"background-color:rgba(135,206,250,0.08750000000000001);\">wish</span> <span style=\"background-color:rgba(135,206,250,0.09999999999999999);\">the</span> <span style=\"background-color:rgba(135,206,250,0.15);\">subscriptions</span> <span style=\"background-color:rgba(135,206,250,0.0625);\">were</span> <span style=\"background-color:rgba(135,206,250,0.049999999999999996);\">more</span> <span style=\"background-color:rgba(135,206,250,0.125);\">accessible</span> <span style=\"background-color:rgba(135,206,250,0.049999999999999996);\">to</span> <span style=\"background-color:rgba(135,206,250,0.049999999999999996);\">small</span> <span style=\"background-color:rgba(135,206,250,0.11249999999999999);\">startups</span> <span style=\"background-color:rgba(135,206,250,0.17500000000000002);\">.</span><br> <span style=\"background-color:rgba(180,180,180,0.4555555555555555);\">Importance 0.41</span> <span style=\"background-color:rgba(135,206,250,0.09999999999999999);\">we</span> <span style=\"background-color:rgba(135,206,250,0.0625);\">are</span> <span style=\"background-color:rgba(135,206,250,0.18749999999999997);\">great</span> <span style=\"background-color:rgba(135,206,250,0.13749999999999998);\">fans</span> <span style=\"background-color:rgba(135,206,250,0.0625);\">of</span> <span style=\"background-color:rgba(135,206,250,0.3);\">slack</span> <span style=\"background-color:rgba(135,206,250,0.125);\">,</span> <span style=\"background-color:rgba(135,206,250,0.1625);\">but</span> <span style=\"background-color:rgba(135,206,250,0.075);\">we</span> <span style=\"background-color:rgba(135,206,250,0.1625);\">wish</span> <span style=\"background-color:rgba(135,206,250,0.049999999999999996);\">the</span> <span style=\"background-color:rgba(135,206,250,0.125);\">subscriptions</span> <span style=\"background-color:rgba(135,206,250,0.09999999999999999);\">were</span> <span style=\"background-color:rgba(135,206,250,0.049999999999999996);\">more</span> <span style=\"background-color:rgba(135,206,250,0.15);\">accessible</span> <span style=\"background-color:rgba(135,206,250,0.15);\">to</span> <span style=\"background-color:rgba(135,206,250,0.08750000000000001);\">small</span> <span style=\"background-color:rgba(135,206,250,0.25);\">startups</span> <span style=\"background-color:rgba(135,206,250,0.5125);\">.</span><br> <span style=\"background-color:rgba(180,180,180,0.43333333333333335);\">Importance 0.39</span> <span style=\"background-color:rgba(135,206,250,0.09999999999999999);\">we</span> <span style=\"background-color:rgba(135,206,250,0.08750000000000001);\">are</span> <span style=\"background-color:rgba(135,206,250,0.18749999999999997);\">great</span> <span style=\"background-color:rgba(135,206,250,0.3375);\">fans</span> <span style=\"background-color:rgba(135,206,250,0.4875);\">of</span> <span style=\"background-color:rgba(135,206,250,0.4875);\">slack</span> <span style=\"background-color:rgba(135,206,250,0.0625);\">,</span> <span style=\"background-color:rgba(135,206,250,0.11249999999999999);\">but</span> <span style=\"background-color:rgba(135,206,250,0.024999999999999998);\">we</span> <span style=\"background-color:rgba(135,206,250,0.049999999999999996);\">wish</span> <span style=\"background-color:rgba(135,206,250,0.024999999999999998);\">the</span> <span style=\"background-color:rgba(135,206,250,0.11249999999999999);\">subscriptions</span> <span style=\"background-color:rgba(135,206,250,0.024999999999999998);\">were</span> <span style=\"background-color:rgba(135,206,250,0.024999999999999998);\">more</span> <span style=\"background-color:rgba(135,206,250,0.024999999999999998);\">accessible</span> <span style=\"background-color:rgba(135,206,250,0.024999999999999998);\">to</span> <span style=\"background-color:rgba(135,206,250,0.012499999999999999);\">small</span> <span style=\"background-color:rgba(135,206,250,0.0625);\">startups</span> <span style=\"background-color:rgba(135,206,250,0.0375);\">.</span><br>"
      ],
      "text/plain": [
       "<IPython.core.display.HTML object>"
      ]
     },
     "metadata": {},
     "output_type": "display_data"
    }
   ],
   "source": [
    "absa.summary(slack)\n",
    "absa.display(slack.review)"
   ]
  },
  {
   "cell_type": "code",
   "execution_count": 31,
   "id": "1acbb406",
   "metadata": {},
   "outputs": [
    {
     "name": "stdout",
     "output_type": "stream",
     "text": [
      "Sentiment.negative for \"price\"\n",
      "Scores (neutral/negative/positive): [0.012 0.958 0.03 ]\n"
     ]
    },
    {
     "data": {
      "text/html": [
       "<span style=\"background-color:rgba(180,180,180,1.1111111111111112);\">Importance 1.00</span> <span style=\"background-color:rgba(135,206,250,0.3125);\">we</span> <span style=\"background-color:rgba(135,206,250,0.5499999999999999);\">are</span> <span style=\"background-color:rgba(135,206,250,1.0999999999999999);\">great</span> <span style=\"background-color:rgba(135,206,250,1.15);\">fans</span> <span style=\"background-color:rgba(135,206,250,0.25);\">of</span> <span style=\"background-color:rgba(135,206,250,0.3375);\">slack</span> <span style=\"background-color:rgba(135,206,250,0.575);\">,</span> <span style=\"background-color:rgba(135,206,250,1.25);\">but</span> <span style=\"background-color:rgba(135,206,250,0.44999999999999996);\">we</span> <span style=\"background-color:rgba(135,206,250,1.1874999999999998);\">wish</span> <span style=\"background-color:rgba(135,206,250,0.19999999999999998);\">the</span> <span style=\"background-color:rgba(135,206,250,0.4875);\">subscriptions</span> <span style=\"background-color:rgba(135,206,250,0.2875);\">were</span> <span style=\"background-color:rgba(135,206,250,0.4125);\">more</span> <span style=\"background-color:rgba(135,206,250,0.3);\">accessible</span> <span style=\"background-color:rgba(135,206,250,0.1625);\">to</span> <span style=\"background-color:rgba(135,206,250,0.17500000000000002);\">small</span> <span style=\"background-color:rgba(135,206,250,0.3);\">startups</span> <span style=\"background-color:rgba(135,206,250,0.35000000000000003);\">.</span><br> <span style=\"background-color:rgba(180,180,180,0.9444444444444444);\">Importance 0.85</span> <span style=\"background-color:rgba(135,206,250,0.075);\">we</span> <span style=\"background-color:rgba(135,206,250,0.075);\">are</span> <span style=\"background-color:rgba(135,206,250,0.09999999999999999);\">great</span> <span style=\"background-color:rgba(135,206,250,0.08750000000000001);\">fans</span> <span style=\"background-color:rgba(135,206,250,0.049999999999999996);\">of</span> <span style=\"background-color:rgba(135,206,250,0.08750000000000001);\">slack</span> <span style=\"background-color:rgba(135,206,250,0.11249999999999999);\">,</span> <span style=\"background-color:rgba(135,206,250,0.7124999999999999);\">but</span> <span style=\"background-color:rgba(135,206,250,0.39999999999999997);\">we</span> <span style=\"background-color:rgba(135,206,250,1.0625);\">wish</span> <span style=\"background-color:rgba(135,206,250,0.35000000000000003);\">the</span> <span style=\"background-color:rgba(135,206,250,0.44999999999999996);\">subscriptions</span> <span style=\"background-color:rgba(135,206,250,0.675);\">were</span> <span style=\"background-color:rgba(135,206,250,0.44999999999999996);\">more</span> <span style=\"background-color:rgba(135,206,250,0.35000000000000003);\">accessible</span> <span style=\"background-color:rgba(135,206,250,0.22499999999999998);\">to</span> <span style=\"background-color:rgba(135,206,250,0.22499999999999998);\">small</span> <span style=\"background-color:rgba(135,206,250,0.3375);\">startups</span> <span style=\"background-color:rgba(135,206,250,0.3);\">.</span><br> <span style=\"background-color:rgba(180,180,180,0.5444444444444444);\">Importance 0.49</span> <span style=\"background-color:rgba(135,206,250,0.012499999999999999);\">we</span> <span style=\"background-color:rgba(135,206,250,0.024999999999999998);\">are</span> <span style=\"background-color:rgba(135,206,250,0.049999999999999996);\">great</span> <span style=\"background-color:rgba(135,206,250,0.049999999999999996);\">fans</span> <span style=\"background-color:rgba(135,206,250,0.024999999999999998);\">of</span> <span style=\"background-color:rgba(135,206,250,0.012499999999999999);\">slack</span> <span style=\"background-color:rgba(135,206,250,0.024999999999999998);\">,</span> <span style=\"background-color:rgba(135,206,250,0.11249999999999999);\">but</span> <span style=\"background-color:rgba(135,206,250,0.024999999999999998);\">we</span> <span style=\"background-color:rgba(135,206,250,0.6124999999999999);\">wish</span> <span style=\"background-color:rgba(135,206,250,0.09999999999999999);\">the</span> <span style=\"background-color:rgba(135,206,250,0.17500000000000002);\">subscriptions</span> <span style=\"background-color:rgba(135,206,250,0.17500000000000002);\">were</span> <span style=\"background-color:rgba(135,206,250,0.6124999999999999);\">more</span> <span style=\"background-color:rgba(135,206,250,0.46249999999999997);\">accessible</span> <span style=\"background-color:rgba(135,206,250,0.15);\">to</span> <span style=\"background-color:rgba(135,206,250,0.075);\">small</span> <span style=\"background-color:rgba(135,206,250,0.11249999999999999);\">startups</span> <span style=\"background-color:rgba(135,206,250,0.075);\">.</span><br> <span style=\"background-color:rgba(180,180,180,0.5333333333333333);\">Importance 0.48</span> <span style=\"background-color:rgba(135,206,250,0.024999999999999998);\">we</span> <span style=\"background-color:rgba(135,206,250,0.049999999999999996);\">are</span> <span style=\"background-color:rgba(135,206,250,0.0375);\">great</span> <span style=\"background-color:rgba(135,206,250,0.0375);\">fans</span> <span style=\"background-color:rgba(135,206,250,0.012499999999999999);\">of</span> <span style=\"background-color:rgba(135,206,250,0.024999999999999998);\">slack</span> <span style=\"background-color:rgba(135,206,250,0.024999999999999998);\">,</span> <span style=\"background-color:rgba(135,206,250,0.08750000000000001);\">but</span> <span style=\"background-color:rgba(135,206,250,0.0375);\">we</span> <span style=\"background-color:rgba(135,206,250,0.6);\">wish</span> <span style=\"background-color:rgba(135,206,250,0.09999999999999999);\">the</span> <span style=\"background-color:rgba(135,206,250,0.43749999999999994);\">subscriptions</span> <span style=\"background-color:rgba(135,206,250,0.6);\">were</span> <span style=\"background-color:rgba(135,206,250,0.18749999999999997);\">more</span> <span style=\"background-color:rgba(135,206,250,0.26249999999999996);\">accessible</span> <span style=\"background-color:rgba(135,206,250,0.11249999999999999);\">to</span> <span style=\"background-color:rgba(135,206,250,0.0625);\">small</span> <span style=\"background-color:rgba(135,206,250,0.13749999999999998);\">startups</span> <span style=\"background-color:rgba(135,206,250,0.08750000000000001);\">.</span><br> <span style=\"background-color:rgba(180,180,180,0.4555555555555555);\">Importance 0.41</span> <span style=\"background-color:rgba(135,206,250,0.11249999999999999);\">we</span> <span style=\"background-color:rgba(135,206,250,0.0625);\">are</span> <span style=\"background-color:rgba(135,206,250,0.075);\">great</span> <span style=\"background-color:rgba(135,206,250,0.09999999999999999);\">fans</span> <span style=\"background-color:rgba(135,206,250,0.049999999999999996);\">of</span> <span style=\"background-color:rgba(135,206,250,0.075);\">slack</span> <span style=\"background-color:rgba(135,206,250,0.1625);\">,</span> <span style=\"background-color:rgba(135,206,250,0.18749999999999997);\">but</span> <span style=\"background-color:rgba(135,206,250,0.11249999999999999);\">we</span> <span style=\"background-color:rgba(135,206,250,0.1625);\">wish</span> <span style=\"background-color:rgba(135,206,250,0.075);\">the</span> <span style=\"background-color:rgba(135,206,250,0.17500000000000002);\">subscriptions</span> <span style=\"background-color:rgba(135,206,250,0.08750000000000001);\">were</span> <span style=\"background-color:rgba(135,206,250,0.049999999999999996);\">more</span> <span style=\"background-color:rgba(135,206,250,0.15);\">accessible</span> <span style=\"background-color:rgba(135,206,250,0.13749999999999998);\">to</span> <span style=\"background-color:rgba(135,206,250,0.11249999999999999);\">small</span> <span style=\"background-color:rgba(135,206,250,0.4125);\">startups</span> <span style=\"background-color:rgba(135,206,250,0.5125);\">.</span><br>"
      ],
      "text/plain": [
       "<IPython.core.display.HTML object>"
      ]
     },
     "metadata": {},
     "output_type": "display_data"
    }
   ],
   "source": [
    "absa.summary(price)\n",
    "absa.display(price.review)"
   ]
  },
  {
   "cell_type": "markdown",
   "id": "fca78478",
   "metadata": {},
   "source": [
    "# Pipeline"
   ]
  },
  {
   "cell_type": "code",
   "execution_count": 32,
   "id": "07e8d205",
   "metadata": {
    "scrolled": true
   },
   "outputs": [],
   "source": [
    "import aspect_based_sentiment_analysis as absa\n",
    "from transformers import BertTokenizer\n",
    "\n",
    "name = 'absa/classifier-rest-0.2'\n",
    "model = absa.BertABSClassifier.from_pretrained(name)\n",
    "# tokenizer = absa.BertTokenizer.from_pretrained(name)\n",
    "tokenizer = BertTokenizer.from_pretrained(name)\n",
    "professor = absa.Professor(...)     # Explained in detail later on.\n",
    "text_splitter = absa.sentencizer()  # The English CNN model from SpaCy.\n",
    "nlp = absa.Pipeline(model, tokenizer, professor, text_splitter)"
   ]
  },
  {
   "cell_type": "code",
   "execution_count": null,
   "id": "63d46a96",
   "metadata": {},
   "outputs": [],
   "source": [
    "# Break down the pipeline `call` method.\n",
    "task = nlp.preprocess(text=..., aspects=...)\n",
    "tokenized_examples = nlp.tokenize(task.examples)\n",
    "input_batch = nlp.encode(tokenized_examples)\n",
    "output_batch = nlp.predict(input_batch)\n",
    "predictions = nlp.review(tokenized_examples, output_batch)\n",
    "completed_task = nlp.postprocess(task, predictions)"
   ]
  }
 ],
 "metadata": {
  "kernelspec": {
   "display_name": "Python 3 (ipykernel)",
   "language": "python",
   "name": "python3"
  },
  "language_info": {
   "codemirror_mode": {
    "name": "ipython",
    "version": 3
   },
   "file_extension": ".py",
   "mimetype": "text/x-python",
   "name": "python",
   "nbconvert_exporter": "python",
   "pygments_lexer": "ipython3",
   "version": "3.10.4"
  },
  "toc": {
   "base_numbering": 1,
   "nav_menu": {},
   "number_sections": true,
   "sideBar": true,
   "skip_h1_title": false,
   "title_cell": "Table of Contents",
   "title_sidebar": "Contents",
   "toc_cell": false,
   "toc_position": {},
   "toc_section_display": true,
   "toc_window_display": false
  }
 },
 "nbformat": 4,
 "nbformat_minor": 5
}
